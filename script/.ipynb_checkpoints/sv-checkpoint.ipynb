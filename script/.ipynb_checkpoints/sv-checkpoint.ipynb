{
 "cells": [
  {
   "cell_type": "code",
   "execution_count": 1,
   "id": "bdd7a59c-700c-49da-88bc-afaa2d1f326e",
   "metadata": {},
   "outputs": [],
   "source": [
    "import pandas as pd\n",
    "import numpy as np\n",
    "import os\n",
    "import pysam\n",
    "import pickle as pkl\n",
    "from matplotlib import pyplot as plt\n",
    "from matplotlib.patches import FancyArrow\n",
    "from matplotlib import cm\n",
    "from matplotlib.lines import Line2D\n",
    "import seaborn as sns\n",
    "from Bio import SeqIO\n",
    "from scipy import stats\n",
    "from statsmodels.api import formula as smf\n",
    "from progressbar import ProgressBar\n",
    "from statsmodels.stats.multitest import multipletests\n",
    "from roman import toRoman\n",
    "import itertools\n",
    "import intervaltree\n",
    "from collections import Counter\n",
    "import re\n",
    "import gzip"
   ]
  },
  {
   "cell_type": "code",
   "execution_count": 2,
   "id": "fd463248-4865-40a7-bc50-8c949f1dc8eb",
   "metadata": {},
   "outputs": [],
   "source": [
    "sns.set(style='ticks', font='DejaVu Sans')"
   ]
  },
  {
   "cell_type": "code",
   "execution_count": 3,
   "id": "99ebd6fc-aa9a-4cb6-b01f-202f2027e74d",
   "metadata": {
    "tags": []
   },
   "outputs": [
    {
     "name": "stderr",
     "output_type": "stream",
     "text": [
      "/tmp/ipykernel_5119/2963890956.py:3: FutureWarning: The squeeze argument has been deprecated and will be removed in a future version. Append .squeeze(\"columns\") to the call to squeeze.\n",
      "\n",
      "\n",
      "  cross_parents = pd.read_csv('/mnt/HDD3/lrma/private_variants/cross_parents.txt', sep=';', header=None, index_col=0, squeeze=True)\n"
     ]
    }
   ],
   "source": [
    "#import tables of strain identities and cross parents\n",
    "nano_strains = pd.read_csv('/mnt/HDD3/lrma/script/nano_strains.csv', index_col=0)\n",
    "cross_parents = pd.read_csv('/mnt/HDD3/lrma/private_variants/cross_parents.txt', sep=';', header=None, index_col=0, squeeze=True)"
   ]
  },
  {
   "cell_type": "code",
   "execution_count": 4,
   "id": "63559848-370c-47b1-a222-8f79f6a34eeb",
   "metadata": {},
   "outputs": [],
   "source": [
    "cross_alias = {'VL3':'CC1',\n",
    "              'VL4':'CC2',\n",
    "              'VL5':'CC3',\n",
    "              'VL1':'BB1',\n",
    "              'VL2':'BB2',\n",
    "              'L1':'BC1',\n",
    "              'L2':'BC2',\n",
    "              'M1':'BA1',\n",
    "              'M2':'BA2',\n",
    "              'H1':'BSc1',\n",
    "              'H2':'BSc2'}\n",
    "cross_order = {j:i for i,j in enumerate(['CC1', 'CC2', 'CC3', 'BB1', 'BB2', 'BC1', 'BC2', 'BA1', 'BA2', 'BSc1', 'BSc2'])}"
   ]
  },
  {
   "cell_type": "code",
   "execution_count": 5,
   "id": "33eb82ef-f669-43d5-8cb7-de7630935689",
   "metadata": {},
   "outputs": [],
   "source": [
    "ns_subg = pd.read_csv('/mnt/HDD3/lrma/script/ns_subg.csv', index_col=0)\n",
    "ns_subg['cross'] = ns_subg['cross'].replace(cross_alias)"
   ]
  },
  {
   "cell_type": "code",
   "execution_count": null,
   "id": "f478e2f6-7ce3-4734-b511-5b26446c88c4",
   "metadata": {},
   "outputs": [],
   "source": [
    "ns_subg.value_counts(['subg', 'ref_chroder'])"
   ]
  },
  {
   "cell_type": "code",
   "execution_count": null,
   "id": "af21f291-8ddf-4f39-a3d4-cd5250f2530e",
   "metadata": {},
   "outputs": [],
   "source": [
    "# step done in a separate script\n",
    "\n",
    "    depth = pd.read_csv(f'/mnt/HDD3/lrma/depth/{s}.fil.depth.gz', sep='\\t', header=None)\n",
    "    median = depth[2].median()\n",
    "    std = depth[2].std()\n",
    "\n",
    "    wdw = 30000\n",
    "    depth['bin'] = pd.cut(depth[1], bins=pd.interval_range(start=1, end=12e6, freq=wdw, closed='left'))\n",
    "    depth_median = depth.groupby([0,'bin'])[2].apply(lambda x: np.round(np.median(x)/median)).rename('median').reset_index()\n",
    "    depth_median['Bin'] = depth_median['bin'].apply(lambda x: x.mid)\n",
    "\n",
    "    tracts = []\n",
    "    for chrom, df in depth_median.loc[~depth_median['median'].isna()].groupby(0):\n",
    "\n",
    "        latest = -1\n",
    "        idx = 0\n",
    "\n",
    "        new_tract = [[], latest]\n",
    "\n",
    "        while idx <= df.shape[0]-1:\n",
    "            i = df.index[idx]\n",
    "            call = depth_median.loc[i, 'median']\n",
    "            if call != latest:\n",
    "                #if there is an active new tract, dump it first\n",
    "                if len(new_tract[0]) > 0:\n",
    "                    tracts.append(new_tract)\n",
    "                #define new tract with the first index in\n",
    "                new_tract = [[i], call]\n",
    "                #update last \n",
    "                latest = call\n",
    "                idx +=1\n",
    "            else:\n",
    "                new_tract[0].append(i)\n",
    "                latest = call\n",
    "                idx +=1\n",
    "        #final dump\n",
    "        tracts.append(new_tract)\n",
    "\n",
    "    for (t, call) in tracts:\n",
    "        start = depth_median.loc[t[0], 'bin'].left\n",
    "        end = depth_median.loc[t[-1], 'bin'].right\n",
    "        chrom = depth_median.loc[t[0], 0]\n",
    "        Tracts.append([s, chrom, start, end, call])\n"
   ]
  },
  {
   "cell_type": "code",
   "execution_count": 6,
   "id": "60d3d8ba-762f-4e93-9c4b-b44dbcffa4ba",
   "metadata": {},
   "outputs": [],
   "source": [
    "Tracts = []\n",
    "\n",
    "for s in ns_subg.loc[ns_subg['identity_filter']==True].index:\n",
    "    Tracts.append(pd.read_csv(f'/mnt/HDD3/lrma/depth_tracts/{s}.tracts.csv', index_col=0))\n",
    "Tracts = pd.concat(Tracts).reset_index(drop=True)"
   ]
  },
  {
   "cell_type": "code",
   "execution_count": 7,
   "id": "a80fa0c7-6e89-41b8-9ad1-b3c9096e717e",
   "metadata": {},
   "outputs": [],
   "source": [
    "tracts_trees = {s_subg:{} for s_subg in ns_subg.loc[ns_subg['identity_filter']==True, 's_subg']}\n",
    "for (s, chrom), df in Tracts.groupby(['s_subg', 'chrom']):\n",
    "    t = intervaltree.IntervalTree()\n",
    "    for i in df.index:\n",
    "        start, end, call = df.loc[i, ['start','end','call']].values\n",
    "        t[start:end] = (i, call)\n",
    "    tracts_trees[s][chrom] = t"
   ]
  },
  {
   "cell_type": "code",
   "execution_count": 8,
   "id": "81c0c235-e588-4fe4-9e4f-52b35f37cc13",
   "metadata": {},
   "outputs": [
    {
     "name": "stderr",
     "output_type": "stream",
     "text": [
      "/tmp/ipykernel_5119/460300785.py:2: DtypeWarning: Columns (6,13,25) have mixed types. Specify dtype option on import or set low_memory=False.\n",
      "  REA = pd.read_csv('/mnt/HDD3/lrma/results/REA.csv', index_col=0)\n"
     ]
    }
   ],
   "source": [
    "#import REA\n",
    "REA = pd.read_csv('/mnt/HDD3/lrma/results/REA.csv', index_col=0)\n",
    "og_data = pd.read_csv('/mnt/HDD3/lrma/results/og_data.csv', index_col=0)\n",
    "og_data.index = og_data['og'].values"
   ]
  },
  {
   "cell_type": "code",
   "execution_count": 9,
   "id": "7158bed1-f0f1-4168-9ec8-caa7106906a7",
   "metadata": {},
   "outputs": [],
   "source": [
    "rea_reindex = REA.set_index(['s_subg','og']).sort_index(level=['s_subg','og'])"
   ]
  },
  {
   "cell_type": "code",
   "execution_count": 10,
   "id": "96acc016-8811-49c1-ae2c-62963d6f56d3",
   "metadata": {},
   "outputs": [],
   "source": [
    "lines_per_cross = ns_subg.loc[ns_subg['identity_filter']==True].groupby('cross').apply(lambda x: set(x['strain'].values)).to_dict()"
   ]
  },
  {
   "cell_type": "code",
   "execution_count": 11,
   "id": "708f3669-c911-4b4e-9d40-7f8dd5d95a1d",
   "metadata": {},
   "outputs": [],
   "source": [
    "display_rea = ['s_subg','cross','subg','solo','fl','tr','fl_tr','lift','Query','Start','End','Strand','og','mid','left_bound','right_bound','has_fl']"
   ]
  },
  {
   "cell_type": "code",
   "execution_count": 12,
   "id": "b134dc09-3661-4f39-8fd1-782c653a44a2",
   "metadata": {},
   "outputs": [],
   "source": [
    "og_cross = []\n",
    "for (cross, og), df in REA.loc[REA['fl_tr']==True].groupby(['cross','og']):\n",
    "    if df['fl'].sum() > 0:\n",
    "        n_lines = len(set(df['s_subg']))\n",
    "        total = df.shape[0]\n",
    "        # if more than one entry per line, flag as complex\n",
    "        cmplx = total > n_lines\n",
    "        full = len(lines_per_cross[cross]) == n_lines\n",
    "        pos = df[['Start', 'End']].values.flatten()\n",
    "        left_bound = pos.min()\n",
    "        right_bound = pos.max()\n",
    "\n",
    "        og_cross.append([cross, og, n_lines, total, full, cmplx, left_bound, right_bound])\n",
    "\n",
    "og_cross = pd.DataFrame(og_cross, columns=['cross', 'og', 'n_lines', 'total', 'full', 'cmplx', 'left_bound', 'right_bound'])"
   ]
  },
  {
   "cell_type": "code",
   "execution_count": 13,
   "id": "10e9d05a-3834-4a88-93a0-0fb2ad9b6e10",
   "metadata": {},
   "outputs": [],
   "source": [
    "og_count = REA.value_counts('og')"
   ]
  },
  {
   "cell_type": "code",
   "execution_count": 14,
   "id": "293bb51f-5d37-40ee-973e-e3c2795dae43",
   "metadata": {},
   "outputs": [],
   "source": [
    "og_cn = []\n",
    "\n",
    "for (cross, og), df in og_cross.groupby(['cross','og']):\n",
    "    subg, chrom, left_bound, right_bound = og_data.loc[og, ['subg', 'chrom', 'left_bound', 'right_bound']]\n",
    "    for s in lines_per_cross[cross]:\n",
    "        s = f'{s}.{subg}'\n",
    "        \n",
    "        left_cn = np.nan\n",
    "        right_cn = np.nan\n",
    "        \n",
    "        left_tract = tracts_trees[s][chrom][left_bound]\n",
    "        if len(left_tract) == 1:\n",
    "            left_cn = list(left_tract)[0][2][1]\n",
    "            \n",
    "        right_tract = tracts_trees[s][chrom][right_bound]\n",
    "        if len(right_tract) == 1:\n",
    "            right_cn = list(right_tract)[0][2][1]\n",
    "            \n",
    "        if (s, og) in rea_reindex.index:\n",
    "            sub_rea= rea_reindex.loc[(s, og)]\n",
    "            has_annot = True\n",
    "            has_fltr = sub_rea['fl_tr'].sum() > 0\n",
    "        else:\n",
    "            has_annot = False\n",
    "            has_fltr = False\n",
    "        \n",
    "        og_cn.append([s, og, left_cn, right_cn, has_annot, has_fltr])\n",
    "        \n",
    "og_cn = pd.DataFrame(og_cn, columns=['s_subg', 'og', 'left_cn', 'right_cn', 'has_annot', 'has_fltr'])\n",
    "og_cn['cons_cn'] = (og_cn['left_cn'] == og_cn['right_cn'])\n",
    "og_cn['og_count'] = og_count.loc[og_cn['og']].values"
   ]
  },
  {
   "cell_type": "code",
   "execution_count": 34,
   "id": "7fd1452f-fcc5-4216-a5c0-395cc0aacda7",
   "metadata": {},
   "outputs": [],
   "source": [
    "#add assembly annotation from reverse liftover\n",
    "for s, df in og_cn.groupby('s_subg'):\n",
    "    bed = pd.read_csv(f'/mnt/HDD3/lrma/reverse_liftover/{s}.flank_lift.bed', sep='\\t', header=None).set_index(3)\n",
    "    \n",
    "    for i in df.index:\n",
    "        og = df.loc[i, 'og']\n",
    "        chrom, lb, rb = og_data.loc[og, ['chrom', 'left_bound', 'right_bound']]\n",
    "               \n",
    "        has_assembly_left = f'{chrom}_{lb-500:.0f}_{lb:.0f}' in bed.index\n",
    "        has_assembly_right = f'{chrom}_{rb:.0f}_{rb+500:.0f}' in bed.index\n",
    "        \n",
    "        og_cn.loc[i, 'has_assembly_left'] = has_assembly_left\n",
    "        og_cn.loc[i, 'has_assembly_right'] = has_assembly_right"
   ]
  },
  {
   "cell_type": "code",
   "execution_count": 37,
   "id": "c4200f05-8a23-4087-90ff-1eda32288c13",
   "metadata": {},
   "outputs": [
    {
     "data": {
      "text/plain": [
       "has_assembly_left  has_annot  has_fltr\n",
       "False              False      False        261\n",
       "                   True       False         10\n",
       "                              True          35\n",
       "True               False      False        166\n",
       "                   True       False        166\n",
       "                              True        3841\n",
       "dtype: int64"
      ]
     },
     "execution_count": 37,
     "metadata": {},
     "output_type": "execute_result"
    }
   ],
   "source": [
    "og_cn.loc[og_cn['cons_cn']].value_counts(['has_assembly_left', 'has_annot', 'has_fltr'], sort=False)"
   ]
  },
  {
   "cell_type": "code",
   "execution_count": null,
   "id": "9949222c-d65f-4dcd-ab31-382f03a880db",
   "metadata": {},
   "outputs": [],
   "source": [
    "og_count.loc[og_count==1]"
   ]
  },
  {
   "cell_type": "code",
   "execution_count": 17,
   "id": "884ce26e-9233-499f-b1b1-fb7cf6207d7a",
   "metadata": {},
   "outputs": [
    {
     "data": {
      "text/plain": [
       "og\n",
       "og1070    10\n",
       "og1006    10\n",
       "og1357    10\n",
       "og1068     8\n",
       "og410      8\n",
       "og3891     7\n",
       "og1400     6\n",
       "og1051     6\n",
       "og144      5\n",
       "og1503     3\n",
       "og515      3\n",
       "og1541     3\n",
       "og172      2\n",
       "og166      2\n",
       "og1519     2\n",
       "og1790     2\n",
       "og1482     2\n",
       "og353      2\n",
       "og3886     2\n",
       "og1092     2\n",
       "og612      2\n",
       "og3985     1\n",
       "og3727     1\n",
       "og1005     1\n",
       "og457      1\n",
       "og491      1\n",
       "og6008     1\n",
       "og801      1\n",
       "og3658     1\n",
       "og1718     1\n",
       "og3452     1\n",
       "og27       1\n",
       "og261      1\n",
       "og2593     1\n",
       "og21       1\n",
       "og1624     1\n",
       "og1440     1\n",
       "og1267     1\n",
       "og1188     1\n",
       "og1134     1\n",
       "og1087     1\n",
       "og1083     1\n",
       "og903      1\n",
       "dtype: int64"
      ]
     },
     "execution_count": 17,
     "metadata": {},
     "output_type": "execute_result"
    }
   ],
   "source": [
    "og_cn.loc[(og_cn['left_cn']==0) & (og_cn['right_cn']==0) & (og_cn['has_annot']==True)\n",
    "         # & (og_cn['og_count']==1)\n",
    "         ].value_counts('og')"
   ]
  },
  {
   "cell_type": "code",
   "execution_count": null,
   "id": "f58af817-b18b-41b7-a68b-9dfe74beda5c",
   "metadata": {},
   "outputs": [],
   "source": [
    "REA.loc[(REA['og']=='og1263'), display_rea]"
   ]
  },
  {
   "cell_type": "code",
   "execution_count": null,
   "id": "e722ef23-89b7-40fa-ad57-b8ed5550ed04",
   "metadata": {},
   "outputs": [],
   "source": [
    "og_cn.loc[og_cn['og']=='og1263']"
   ]
  },
  {
   "cell_type": "code",
   "execution_count": null,
   "id": "da4d3e48-cb07-4785-8508-a7066c74946a",
   "metadata": {
    "tags": []
   },
   "outputs": [],
   "source": [
    "fig, axes = plt.subplots(nrows=16, figsize=[18,30])\n",
    "\n",
    "chrom_ax_dict = dict(zip(sorted(set(depth[0])), range(16)))\n",
    "\n",
    "for chrom, df1 in depth.groupby(0):\n",
    "    #if chrom == 'chrXII':\n",
    "    \n",
    "    ax = axes[chrom_ax_dict[chrom]]\n",
    "    df1[2] = df1[2]/median\n",
    "    sns.histplot(x=1, y=2, data=df1, bins=[np.arange(0,1.5e6,5e3), np.linspace(0, 3, 30)], cmap='binary', ax=ax, zorder=0)\n",
    "\n",
    "for chrom, df1 in depth_median.groupby(0):\n",
    "    #if chrom == 'chrXII':\n",
    "    ax = axes[chrom_ax_dict[chrom]]\n",
    "    ax.scatter(df1['Bin'], df1['median'], alpha=0.5, s=6, color='red', zorder=1)\n",
    "    #ax = axes[chrom_ax_dict[chrom]]\n",
    "    #ax.axhline(1/hist_bin, lw=1, color='white')\n",
    "    #ax.plot(df1['bin'].apply(lambda x: x.mid), df1['median']*median, c='red', lw=2, alpha=0.5)\n",
    "    \n",
    "for chrom, df1 in Tracts.groupby('chrom'):\n",
    "    #if chrom == 'chrXII':\n",
    "    ax = axes[chrom_ax_dict[chrom]]\n",
    "    for t in df1.index:\n",
    "        start, end, call = df1.loc[t, ['start', 'end', 'call']]\n",
    "        ax.plot([start, end], [call, call], c='limegreen', lw=2, alpha=1, zorder=2)\n",
    "\n",
    "    ax.set_title(chrom)\n",
    "    ax.set_ylim(0, 5)\n",
    "    \n",
    "plt.show()\n",
    "plt.close()"
   ]
  }
 ],
 "metadata": {
  "kernelspec": {
   "display_name": "Python 3 (ipykernel)",
   "language": "python",
   "name": "python3"
  },
  "language_info": {
   "codemirror_mode": {
    "name": "ipython",
    "version": 3
   },
   "file_extension": ".py",
   "mimetype": "text/x-python",
   "name": "python",
   "nbconvert_exporter": "python",
   "pygments_lexer": "ipython3",
   "version": "3.9.13"
  }
 },
 "nbformat": 4,
 "nbformat_minor": 5
}
