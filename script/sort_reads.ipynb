{
 "cells": [
  {
   "cell_type": "code",
   "execution_count": null,
   "id": "87593d97-5144-48b5-8b39-f7a3f3eb3265",
   "metadata": {},
   "outputs": [],
   "source": [
    "import pandas as pd\n",
    "import numpy as np\n",
    "import os\n",
    "import pysam\n",
    "import pickle as pkl\n",
    "from matplotlib import pyplot as plt\n",
    "from matplotlib.patches import FancyArrow\n",
    "from matplotlib import cm\n",
    "from matplotlib.lines import Line2D\n",
    "from matplotlib.patches import Rectangle\n",
    "from matplotlib.ticker import MultipleLocator\n",
    "import seaborn as sns\n",
    "from Bio import SeqIO\n",
    "from scipy import stats\n",
    "from progressbar import ProgressBar\n",
    "from statsmodels.stats.multitest import multipletests\n",
    "from roman import toRoman\n",
    "import itertools\n",
    "from collections import Counter\n",
    "import re"
   ]
  },
  {
   "cell_type": "markdown",
   "id": "be14ab40-1338-41d2-8898-ff7a51cd3340",
   "metadata": {},
   "source": [
    "# General functions and metadata"
   ]
  },
  {
   "cell_type": "code",
   "execution_count": null,
   "id": "d7638efa-3d0b-410b-abdc-13b11a8af737",
   "metadata": {},
   "outputs": [],
   "source": [
    "rc_sns = {'ytick_color':'k', 'xtick_color':'k', 'text_color':'k', 'font.sans-serif':'DejaVu Sans', 'figure.facecolor':(1,1,1,1)}\n",
    "sns.set_style(style='ticks', rc=rc_sns)"
   ]
  },
  {
   "cell_type": "code",
   "execution_count": null,
   "id": "9fdfad41-5e87-43dd-947c-3b1a1518b993",
   "metadata": {},
   "outputs": [],
   "source": [
    "#path for figures\n",
    "fig_path = '/home/mathieu/mhenault_landrylab/Publications/lrma/draft/fig/'\n",
    "tables_path = '/home/mathieu/mhenault_landrylab/Publications/lrma/draft/tables/'"
   ]
  },
  {
   "cell_type": "code",
   "execution_count": null,
   "id": "1b1d26dd-fb18-480c-a736-27097e5950b2",
   "metadata": {
    "tags": []
   },
   "outputs": [],
   "source": [
    "#import tables of strain identities and cross parents\n",
    "nano_strains = pd.read_csv('/mnt/HDD3/lrma/script/nano_strains.csv', index_col=0)\n",
    "Cross_parents = pd.read_csv('/mnt/HDD3/lrma/private_variants/cross_parents.txt', sep=';', header=None, index_col=0).squeeze()"
   ]
  },
  {
   "cell_type": "code",
   "execution_count": null,
   "id": "ec9e106c-ca17-4da7-ba17-092eff360b57",
   "metadata": {},
   "outputs": [],
   "source": [
    "cross_alias = {'VL3':'CC1',\n",
    "              'VL4':'CC2',\n",
    "              'VL5':'CC3',\n",
    "              'VL1':'BB1',\n",
    "              'VL2':'BB2',\n",
    "              'L1':'BC1',\n",
    "              'L2':'BC2',\n",
    "              'M1':'BA1',\n",
    "              'M2':'BA2',\n",
    "              'H1':'BSc1',\n",
    "              'H2':'BSc2'}\n",
    "nano_strains['cross'] = nano_strains['cross'].replace(cross_alias)\n",
    "cross_order = {j:i for i,j in enumerate(['CC1', 'CC2', 'CC3', 'BB1', 'BB2', 'BC1', 'BC2', 'BA1', 'BA2', 'BSc1', 'BSc2'])}\n",
    "cross_color = nano_strains.groupby('cross')['cross_color'].apply(lambda x: x.iloc[0]).to_dict()"
   ]
  },
  {
   "cell_type": "code",
   "execution_count": null,
   "id": "79d54a19-fbd8-4529-8bd0-81f534b39d66",
   "metadata": {},
   "outputs": [],
   "source": [
    "#import table of cross parents\n",
    "cross_parents = pd.read_csv('/mnt/HDD3/lrma/script/cross_parents.csv', sep=',', index_col=0)\n",
    "cross_color = nano_strains.groupby('cross')['cross_color'].apply(lambda x: x.iloc[0]).to_dict()\n",
    "\n",
    "parents_background = cross_parents.value_counts(['strain', 'group', 'mat', 'ho', 'ade2']).rename('count').reset_index().set_index('strain')"
   ]
  },
  {
   "cell_type": "code",
   "execution_count": null,
   "id": "b668924e-956a-4573-bffe-d42a4717d5dd",
   "metadata": {},
   "outputs": [],
   "source": [
    "# dict of parental strains with new cross IDs\n",
    "for (cross, p) in Cross_parents.items():\n",
    "    Cross_parents[cross_alias[cross]] = p\n",
    "Parents_order = dict(zip(['LL2011_004', 'LL2011_009', 'MSH-587-1', 'LL2011_012', 'LL2011_001',\n",
    "                          'MSH-604', 'UWOPS-91-202', 'LL2012_028', 'LL2012_021',\n",
    "                          'YPS644', 'YPS744', 'LL2013_040', 'LL2013_054'], range(13)))\n",
    "\n",
    "parents_group = {'MSH-604':'SpB',\n",
    "                   'UWOPS-91-202':'SpB',\n",
    "                   'LL2012_021':'SpB',\n",
    "                   'LL2012_028':'SpB',\n",
    "                   'LL2011_004':'SpC',\n",
    "                   'LL2011_009':'SpC',\n",
    "                   'MSH-587-1':'SpC',\n",
    "                   'LL2011_012':'SpC',\n",
    "                   'LL2011_001':'SpC',\n",
    "                   'YPS644':'SpA',\n",
    "                   'YPS744':'SpA',\n",
    "                   'LL2013_040':'Sc',\n",
    "                   'LL2013_054':'Sc'}\n",
    "\n",
    "parents_color = {'MSH-604':'red',\n",
    "                   'UWOPS-91-202':'red',\n",
    "                   'LL2012_021':'darkred',\n",
    "                   'LL2012_028':'darkred',\n",
    "                   'LL2011_004':'dodgerblue',\n",
    "                   'LL2011_009':'dodgerblue',\n",
    "                   'MSH-587-1':'midnightblue',\n",
    "                   'LL2011_012':'midnightblue',\n",
    "                   'LL2011_001':'midnightblue',\n",
    "                   'YPS644':'limegreen',\n",
    "                   'YPS744':'limegreen',\n",
    "                   'LL2013_040':'dimgrey',\n",
    "                   'LL2013_054':'dimgrey'}\n",
    "\n",
    "mat_alias = {'a': r'$a$', 'alpha':r'$\\alpha$'}\n",
    "group_alias = {'SpA':r'$SpA$', 'SpB':r'$SpB$', 'SpC':r'$SpC$', 'Scer':r'$S.c.$'}"
   ]
  },
  {
   "cell_type": "markdown",
   "id": "229b7dda-5cb2-4349-aeb6-337399b966e9",
   "metadata": {},
   "source": [
    "## Initial construction of subg metadata table"
   ]
  },
  {
   "cell_type": "code",
   "execution_count": null,
   "id": "7b29bafd-efe8-4a05-beef-3a396523c479",
   "metadata": {},
   "outputs": [],
   "source": [
    "#split table per subgenome\n",
    "ns_subg = nano_strains.loc[nano_strains['cross']!='P'].copy()\n",
    "for c, df in ns_subg.groupby('cross'):\n",
    "    s1, s2 = cross_parents.loc[c].split(',')\n",
    "    ns_subg.loc[df.index, 's1'] = s1\n",
    "    ns_subg.loc[df.index, 's2'] = s2\n",
    "\n",
    "ns_subg = pd.melt(ns_subg, id_vars=ns_subg.columns[:-2], value_vars=['s1','s2'], value_name='subg', var_name='subg_idx').sort_values(by=['cross','strain','subg_idx'])\n",
    "ns_subg['s_subg'] = ns_subg.apply(lambda x: f'{x[\"strain\"]}.{x[\"subg\"]}', axis=1)\n",
    "ns_subg.index = ns_subg['s_subg'].values\n",
    "# add reference genome for quick mapping \n",
    "for sg, df in ns_subg.groupby('subg'):\n",
    "    if sg in ['LL2013_040','LL2013_054']:\n",
    "        ns_subg['quick_map'] = '/home/mathieu/mhenault_landrylab/Sequences/ref_genomes/S288C_pacbio/S288c.genome.fa'\n",
    "    if sg in ['YPS644','YPS744']:\n",
    "        ns_subg['quick_map'] = '/home/mathieu/mhenault_landrylab/Sequences/ref_genomes/CBS432_pacbio/CBS432.genome.fa'\n",
    "    else:\n",
    "        ns_subg['quick_map'] = '/home/mathieu/mhenault_landrylab/Sequences/ref_genomes/YPS138_pacbio/YPS138.genome.fa'\n",
    "#ns_subg.to_csv('/mnt/HDD3/lrma/script/ns_subg.csv')"
   ]
  },
  {
   "cell_type": "code",
   "execution_count": null,
   "id": "af9e82c7-f710-40f5-bf71-658b0b008807",
   "metadata": {},
   "outputs": [],
   "source": [
    "# import subgenome metadata table\n",
    "ns_subg = pd.read_csv('/mnt/HDD3/lrma/script/ns_subg.csv', index_col=0)\n",
    "ns_subg['cross'] = ns_subg['cross'].replace(cross_alias)\n",
    "ns_subg['mat'] = parents_background.loc[ns_subg['subg'], 'mat'].values"
   ]
  },
  {
   "cell_type": "code",
   "execution_count": null,
   "id": "8d0637e0-15dd-47de-b430-895c69971831",
   "metadata": {},
   "outputs": [],
   "source": [
    "lines_per_cross = ns_subg.loc[ns_subg['identity_filter']==True].groupby('cross').apply(lambda x: set(x['strain'].values)).to_dict()"
   ]
  },
  {
   "cell_type": "markdown",
   "id": "847763b8-6417-4454-9bc6-fbf85a15264d",
   "metadata": {},
   "source": [
    "# Cross design"
   ]
  },
  {
   "cell_type": "markdown",
   "id": "3c0295c4-06e0-4330-a4ec-47cf24b49975",
   "metadata": {},
   "source": [
    "## Fig 2A"
   ]
  },
  {
   "cell_type": "code",
   "execution_count": null,
   "id": "158ffd20-0542-493a-847f-7576680d0ccc",
   "metadata": {},
   "outputs": [],
   "source": [
    "#plot crosses scheme\n",
    "\n",
    "fig = plt.figure(figsize=[5,4])\n",
    "gs = plt.GridSpec(ncols=1, nrows=1, left=0.25, right=0.68, top=0.9, bottom=0.23)\n",
    "ax = fig.add_subplot(gs[0])\n",
    "\n",
    "#for cross in Cross_parents:\n",
    "for cross in cross_order:\n",
    "    sub = cross_parents.loc[cross_parents['cross']==cross].sort_values(by='mat')\n",
    "    #p1, p2 = Cross_parents[cross].split(',')\n",
    "    p1, p2 = sub['strain'].values\n",
    "    \n",
    "    X = np.repeat(cross_order[cross], 2)\n",
    "    Y = [Parents_order[p] for p in (p1, p2)]\n",
    "    \n",
    "    ax.plot(X, Y, c='k', marker='o', mfc='k', lw=1, ms=5)\n",
    "    \n",
    "    fa = FancyArrow(cross_order[cross], 12.5, 0, 3.7, width=1, head_length=0, head_width=0, fc=cross_color[cross], lw=1, ec='w', \n",
    "                    clip_on=False, zorder=0)\n",
    "    ax.add_patch(fa)\n",
    "    if cross == 'BSc1':\n",
    "        tc = 'k'\n",
    "    else:\n",
    "        tc = 'w'\n",
    "    ax.text(cross_order[cross], 14.2, cross, size=9, ha='center', va='top', color=tc, rotation=90, fontweight='bold', zorder=1)\n",
    "    ax.text(cross_order[cross], 13.3, f'({len(lines_per_cross[cross])})', size=7, ha='center', va='center', color=tc, rotation=90, fontweight='bold', zorder=1)\n",
    "    \n",
    "for group, (y, dy), fc in zip(['SpC','SpB','SpA','S. c.'], [(0,5), (5,4), (9,2), (11,2)], ['#00008B','#EE0000','#00CD00','0.25']):\n",
    "    rect_spacing = 0.05\n",
    "    \n",
    "    Rect = Rectangle((-0.5, y+rect_spacing-0.5), 11, dy-2*rect_spacing, fc=fc, lw=0, zorder=0, clip_on=False, alpha=0.3)\n",
    "    ax.add_patch(Rect)\n",
    "    mid = np.mean([y, dy+y])-0.5\n",
    "    ax.text(10.8, mid, group, color=fc, size=11, fontweight='semibold', fontstyle='italic',\n",
    "             va='center', ha='left', clip_on=False, zorder=0)\n",
    "    \n",
    "\n",
    "ax.set_ylim(12.5,-0.5)\n",
    "ax.set_yticks(range(13))\n",
    "ax.set_yticklabels([])\n",
    "\n",
    "ax.set_xlim(-0.5, 10.5)\n",
    "ax.set_xticks([])\n",
    "\n",
    "\n",
    "for p in Parents_order:\n",
    "    \n",
    "    group, mat, c = parents_background.loc[p, ['group', 'mat', 'count']]\n",
    "    \n",
    "    if c > 1:\n",
    "        fw = 'bold'\n",
    "    else:\n",
    "        fw = 'normal'\n",
    "    \n",
    "    ax.text(-1, Parents_order[p]-0.1, f'{p}', size=8, color='k', ha='right', va='center', weight=fw)\n",
    "    ax.text(-1, Parents_order[p]+0.35, f'($MAT${mat_alias[mat]}, {group_alias[group]})', size=5, color='k', ha='right', va='center')\n",
    "    \n",
    "for i in ['right','top']:\n",
    "    ax.spines[i].set_visible(False)\n",
    "    \n",
    "    \n",
    "#plt.savefig(f'{fig_path}Fig2A.svg', dpi=300)\n",
    "#plt.show()\n",
    "plt.close()"
   ]
  },
  {
   "cell_type": "markdown",
   "id": "f2c3abcb-efa6-485a-86b7-62d9b5a22d64",
   "metadata": {},
   "source": [
    "# Plot stats from the MA lines assemblies"
   ]
  },
  {
   "cell_type": "code",
   "execution_count": null,
   "id": "6ee51903-4399-4b92-a437-27ddfaec8942",
   "metadata": {},
   "outputs": [],
   "source": [
    "parent_size = {}\n",
    "for subg in ns_subg['subg'].unique():\n",
    "    file = f'/home/mathieu/paradoxus_nanopore/MA_parents/assemblies/{subg}.chromosomes.fasta'\n",
    "    parent_size[subg] = np.sum([len(seq.seq) for seq in SeqIO.parse(file, 'fasta')])"
   ]
  },
  {
   "cell_type": "code",
   "execution_count": null,
   "id": "1feda4e3-a32e-4489-9d3b-35faaa22235b",
   "metadata": {},
   "outputs": [],
   "source": [
    "#get statistics on assemblies\n",
    "assembl_stats = []\n",
    "for (cross, subg, s), df in ns_subg.loc[ns_subg['identity_filter']].groupby(['cross','subg','s_subg']):\n",
    "    #cross = cross_alias[cross]\n",
    "    query = f'/mnt/HDD3/lrma/medaka/{s}/consensus.fasta'\n",
    "    \n",
    "    draft = pd.concat([pd.Series([seq.id, len(seq.seq)]) for seq in SeqIO.parse(query, 'fasta')], axis=1).T.sort_values(by=1, ascending=False)\n",
    "    Size = draft[1].sum()\n",
    "    n = draft.shape[0]\n",
    "    idx, cum = (0,0)\n",
    "    while cum < Size/2:\n",
    "        tig, size = draft.loc[idx]\n",
    "        cum += size\n",
    "        idx += 1\n",
    "        \n",
    "    N50 = size\n",
    "    assembl_stats.append([cross, cross_order[cross], subg, f'{cross}.{subg}', s, Size, N50, n])\n",
    "\n",
    "assembl_stats = pd.DataFrame(assembl_stats, columns=['cross','co','subg','cross_subg','s_subg','size','N50','n'])\n",
    "assembl_stats['strain'] = assembl_stats['s_subg'].apply(lambda x: x.split('.')[0])\n",
    "assembl_stats['so'] = assembl_stats['strain'].apply(lambda x: int(x[1:]))\n",
    "assembl_stats.index = assembl_stats['s_subg'].values"
   ]
  },
  {
   "cell_type": "code",
   "execution_count": null,
   "id": "1a789bed-e48f-4065-9f2b-f5df118fdd9e",
   "metadata": {},
   "outputs": [],
   "source": [
    "for subg, df in assembl_stats.groupby('subg'):\n",
    "    assembl_stats.loc[df.index, 'size_ratio'] = df['size']/parent_size[subg]*100\n",
    "assembl_stats['N50_Mb'] = assembl_stats['N50']*1e-6\n",
    "assembl_stats['N50_log'] = np.log10(assembl_stats['N50'])"
   ]
  },
  {
   "cell_type": "code",
   "execution_count": null,
   "id": "2846d9de-3d74-4736-bbad-0cb07be62f79",
   "metadata": {},
   "outputs": [],
   "source": [
    "assembl_summary = []\n",
    "\n",
    "for m in ['n', 'N50']:\n",
    "    for cross, df in assembl_stats.groupby('cross'):\n",
    "        med = np.median(df[m])\n",
    "        q005 = np.quantile(df[m], 0.05)\n",
    "        q095 = np.quantile(df[m], 0.95)\n",
    "        \n",
    "        assembl_summary.append([cross, m, med, q005, q095])\n",
    "        \n",
    "    \n",
    "    med = np.median(assembl_stats[m])\n",
    "    q005 = np.quantile(assembl_stats[m], 0.05)\n",
    "    q095 = np.quantile(assembl_stats[m], 0.95)\n",
    "    assembl_summary.append(['global', m, med, q005, q095])\n",
    "    \n",
    "assembl_summary = pd.DataFrame(assembl_summary, columns=['cross', 'metric', 'median', 'q005', 'q095'])"
   ]
  },
  {
   "cell_type": "markdown",
   "id": "7599b403-455b-4c68-986e-b4893271d667",
   "metadata": {},
   "source": [
    "## Fig 2C"
   ]
  },
  {
   "cell_type": "code",
   "execution_count": null,
   "id": "e1c5397a-a9f7-46a6-b95d-0ff27854a3b4",
   "metadata": {},
   "outputs": [],
   "source": [
    "cross_subgenome_order = assembl_stats.groupby(['co','subg']).apply(lambda x: x.iloc[0]).reset_index(drop=True)\n",
    "cross_subgenome_order['mat'] = parents_background.loc[cross_subgenome_order['subg'], 'mat'].values\n",
    "cross_subgenome_order['subg'] = cross_subgenome_order['s_subg'].apply(lambda x: x.split('.')[1])\n",
    "for cross, df in cross_subgenome_order.groupby('cross'):\n",
    "    p1, p2 = Cross_parents[cross].split(',')\n",
    "    subg_idx = pd.Series({p1:0, p2:1})\n",
    "    cross_subgenome_order.loc[df.index, 'subg_order'] = subg_idx.loc[df['subg']].values\n",
    "cross_subgenome_order = cross_subgenome_order.sort_values(by=['co', 'subg_order'])['cross_subg']"
   ]
  },
  {
   "cell_type": "code",
   "execution_count": null,
   "id": "afe27cb6-729e-41a1-89bf-93ea88222572",
   "metadata": {},
   "outputs": [],
   "source": [
    "fig, axes = plt.subplots(ncols=3, figsize=[10,4], gridspec_kw=dict(top=0.93, left=0.08, bottom=0.33, right=0.98, wspace=0.3))\n",
    "\n",
    "for m, m_alias, ax in zip(['size_ratio','N50_log', 'n'],\n",
    "                          ['Assembly size ratio (%)','log$_{10}$ N50 (bp)' ,'Number of contigs'], axes):\n",
    "\n",
    "    sns.boxplot(x='cross_subg', y=m, data=assembl_stats, color='w',\n",
    "                #scale='width',\n",
    "                fliersize=0,\n",
    "                order=cross_subgenome_order, ax=ax)\n",
    "    palette = {cs:cross_color[cs.split('.')[0]] for cs in assembl_stats['cross_subg'].unique()}\n",
    "    \n",
    "    sns.stripplot(x='cross_subg', y=m, data=assembl_stats, palette=palette, alpha=0.5, hue='cross_subg',\n",
    "                order=cross_subgenome_order, ax=ax)\n",
    "    \n",
    "    ax.legend_.remove()\n",
    "    ax.set_xticklabels(cross_subgenome_order, rotation=90, size=8)\n",
    "    ax.set_xlabel('')\n",
    "    ax.set_ylabel(m_alias)\n",
    "\n",
    "sns.despine()\n",
    "\n",
    "#plt.savefig(f'{fig_path}Fig2C.svg', dpi=300)\n",
    "#plt.show()\n",
    "plt.close()"
   ]
  },
  {
   "cell_type": "markdown",
   "id": "67d7f455-47fa-497d-86bb-8da5119de223",
   "metadata": {},
   "source": [
    "## Supp Table S2"
   ]
  },
  {
   "cell_type": "code",
   "execution_count": null,
   "id": "cead0f31-07b3-4dd0-b669-cba36510ec23",
   "metadata": {},
   "outputs": [],
   "source": [
    "assembl_stats.sort_values(by=['co','so','subg']).to_csv(f'{tables_path}assembly_stats.csv')"
   ]
  },
  {
   "cell_type": "code",
   "execution_count": null,
   "id": "1cedddf4-7c0a-4c2b-a091-d40399cb8a70",
   "metadata": {},
   "outputs": [],
   "source": [
    "SORT = {}\n",
    "for s in ['J17','C20']:\n",
    "    cross = nano_strains.loc[s, 'cross']\n",
    "    s1, s2 = cross_parents.loc[cross].split(',')\n",
    "\n",
    "    bam = pysam.AlignmentFile(f'/mnt/HDD3/lrma/minimap_sort/{s}.sort.minimap.bam', 'rb')\n",
    "\n",
    "    read_len = {}\n",
    "    query_len = {}\n",
    "    qual = {}\n",
    "    secondary = {}\n",
    "    nm = {}\n",
    "    aln_pos = {}\n",
    "    for i in bam:\n",
    "\n",
    "        name = i.query_name\n",
    "        read_len[name] = i.infer_read_length()\n",
    "        query_len[name] = i.infer_query_length()\n",
    "        secondary[name] = i.is_secondary\n",
    "        aln_pos[name] = i.reference_start\n",
    "        if i.is_secondary:\n",
    "            qual[name] = -1\n",
    "        else:\n",
    "            qual[name] = np.mean(i.query_alignment_qualities)\n",
    "\n",
    "        tags = dict(i.get_tags())\n",
    "        if 'NM' in tags:\n",
    "            nm[name] = tags['NM']\n",
    "        else:\n",
    "            nm[name] = -1\n",
    "\n",
    "    tab = pd.read_csv(f'/mnt/HDD3/lrma/private_variants/private_variants_{cross}.tab', sep='\\t', header=None,\n",
    "                     dtype={0:str,1:np.int32,2:str,3:str,4:str,5:str,6:str})\n",
    "    for gt_col in (5,6):\n",
    "        tab[gt_col] = np.where(tab[gt_col].isin(['1|1','1/1']), tab[4], tab[3])\n",
    "    tab.index = tab[1].values-1\n",
    "\n",
    "    reads = {}\n",
    "    #s1, s2 = samples\n",
    "    idx = 0\n",
    "    with ProgressBar(max_value=tab.shape[0]) as bar:\n",
    "        for tig, tab_sub in tab.groupby(0):\n",
    "            # get list of positions on the contig\n",
    "            loci = bam.pileup(tig)\n",
    "            #iterate pileups per position\n",
    "            for pileup in loci:\n",
    "                i = pileup.reference_pos\n",
    "                # if position is a snp that allows to discriminate parents, continue\n",
    "                if i in tab_sub.index:\n",
    "                    gt1, gt2 = tab_sub.loc[i, [5,6]]\n",
    "\n",
    "                    for (rid, nt) in zip(pileup.get_query_names(), pileup.get_query_sequences()):\n",
    "                        # init reads dict\n",
    "                        if rid not in reads:\n",
    "                            reads[rid] = {s1:0, s2:0}\n",
    "                        nt = nt.upper()\n",
    "                        if nt == gt1:\n",
    "                            reads[rid][s1] += 1\n",
    "                        elif nt == gt2:\n",
    "                            reads[rid][s2] += 1\n",
    "                    idx += 1\n",
    "                    bar.update(idx)\n",
    "\n",
    "    sort = pd.DataFrame(reads).T\n",
    "    #sort['binom'] = sort.apply(lambda x: stats.binom_test(x[s1], x[s1]+x[s2], 0.5), axis=1)\n",
    "    sort['sort'] = sort.apply(lambda x : sort_counts(x, s1, s2), axis=1)\n",
    "\n",
    "    sort['rl'] = pd.Series(read_len).loc[sort.index]\n",
    "    sort['log_rl'] = np.log10(sort['rl'])\n",
    "    sort['ql'] = pd.Series(query_len)\n",
    "    sort['log_ql'] = np.log10(sort['ql'])\n",
    "    sort['sec'] = pd.Series(secondary)\n",
    "    sort['nm'] = pd.Series(nm)\n",
    "    sort['qual'] = pd.Series(qual)\n",
    "    sort['pos'] = pd.Series(aln_pos)\n",
    "    sort['log0'] = np.log10(sort[s1]+1)\n",
    "    sort['log1'] = np.log10(sort[s2]+1)\n",
    "    sort['%nm'] = sort['nm']/sort['ql']\n",
    "\n",
    "    #sort['corr_pval'] = multipletests(sort['binom'], alpha=0.05, method='fdr_bh')[0]\n",
    "    SORT[s] = sort"
   ]
  },
  {
   "cell_type": "code",
   "execution_count": null,
   "id": "d7b8f797-bec6-49b4-abe6-e18f3c6cf6a9",
   "metadata": {},
   "outputs": [],
   "source": [
    "def sort_counts(x, s1, s2):\n",
    "    c1, c2 = x[[s1, s2]]\n",
    "    if np.max([c1 ,c2]) >= 2:\n",
    "        if c1 >= 2*c2:\n",
    "            return s1\n",
    "        if c2 >= 2*c1:\n",
    "            return s2\n",
    "        else:\n",
    "            return -1\n",
    "    else:\n",
    "        return -1"
   ]
  },
  {
   "cell_type": "code",
   "execution_count": null,
   "id": "b5fd9385-de30-4f18-8367-3a4fb41f8184",
   "metadata": {},
   "outputs": [],
   "source": [
    "for gt, df in sort.loc[sort['corr_pval']].groupby('sort'):\n",
    "    with open(f'/mnt/HDD3/lrma/sort/{s}.{gt}.reads', 'w') as handle:\n",
    "        handle.write('\\n'.join(df.index))"
   ]
  },
  {
   "cell_type": "code",
   "execution_count": null,
   "id": "76ed3ec8-3205-4ebe-afa3-9fdad2a39b7d",
   "metadata": {},
   "outputs": [],
   "source": [
    "fig, axes = plt.subplots(ncols=2, nrows=2, gridspec_kw={'height_ratios':(1,4), 'wspace':0.4}, figsize=[8,5])\n",
    "for (s, sort), ax in zip(SORT.items(), axes.T):\n",
    "    \n",
    "    cross = nano_strains.loc[s, 'cross']\n",
    "    s1, s2 = cross_parents.loc[cross].split(',')\n",
    "    \n",
    "    palette={s1:'blue',s2:'red',-1:'0.3'}\n",
    "    \n",
    "    sns.scatterplot(data=sort, x=s1, y=s2, hue='sort', edgecolor=(1,1,1,0), ax=ax[1],\n",
    "                   palette=palette, alpha=0.1, s=10)\n",
    "    ax[1].set_xlabel(f'snps {s1}')\n",
    "    ax[1].set_ylabel(f'snps {s2}')\n",
    "    \n",
    "    bar = sort.value_counts('sort')\n",
    "    ax[0].bar(range(3), bar, color=[palette[i] for i in bar.index])\n",
    "    ax[0].set_xticks(range(3))\n",
    "    ax[0].set_xticklabels(bar.index)\n",
    "    ax[0].set_ylabel('sorted reads')\n",
    "    ax[0].set_title(f'{s} ({cross_alias[cross]})')\n",
    "\n",
    "sns.despine()\n",
    "plt.savefig('/mnt/HDD3/lrma/fig/sort_example.png', dpi=300)\n",
    "plt.show()\n",
    "plt.close()"
   ]
  },
  {
   "cell_type": "markdown",
   "id": "3df4c2f4-4bb7-42dd-8d9d-0c79d03f7d88",
   "metadata": {},
   "source": [
    "### correlate numbers of reads in mappings to sorted subgenomes"
   ]
  },
  {
   "cell_type": "code",
   "execution_count": null,
   "id": "d6af541a-e851-4edc-9461-7a3cdfc4a325",
   "metadata": {},
   "outputs": [],
   "source": [
    "#parse mapping stats\n",
    "map_sort_stats = {}\n",
    "for s in nano_strains.loc[nano_strains['cross']!='P'].index:\n",
    "    with open(f'/mnt/HDD3/lrma/minimap_sort/{s}.sort.minimap.stats') as handle:\n",
    "        dat = dict([line.split('\\t')[1:3] for line in handle.read().splitlines() if line[:2]=='SN'])\n",
    "        for m,v in dat.items():\n",
    "            if '.' in v:\n",
    "                dat[m] = float(v)\n",
    "            else:\n",
    "                dat[m] = int(v)\n",
    "        map_sort_stats[s] = dat"
   ]
  },
  {
   "cell_type": "code",
   "execution_count": null,
   "id": "f90628b5-46e6-4ee7-be59-bc1bca6b68b0",
   "metadata": {},
   "outputs": [],
   "source": [
    "#parse number of bases\n",
    "read_lengths = {}\n",
    "idx = 0\n",
    "with ProgressBar(max_value=ns_subg.shape[0]) as bar:\n",
    "    for s in ns_subg.index:\n",
    "        read_lengths[s]  = np.array([len(seq.seq) for seq in SeqIO.parse(f'/mnt/HDD3/lrma/sort/{s}.reads.fastq', 'fastq')])\n",
    "        idx += 1\n",
    "        bar.update(idx)"
   ]
  },
  {
   "cell_type": "code",
   "execution_count": null,
   "id": "403d7d0a-c713-4ed8-a25d-826ed969932f",
   "metadata": {},
   "outputs": [],
   "source": [
    "#with open('/mnt/HDD3/lrma/sort/rl.pkl', 'wb') as handle:\n",
    "#    pkl.dump(read_lengths, handle)"
   ]
  },
  {
   "cell_type": "code",
   "execution_count": null,
   "id": "3469f9b4-24d7-4eb3-9464-31c17f853798",
   "metadata": {},
   "outputs": [],
   "source": [
    "with open('/mnt/HDD3/lrma/sort/rl.pkl', 'rb') as handle:\n",
    "    read_lengths = pkl.load(handle)"
   ]
  },
  {
   "cell_type": "code",
   "execution_count": null,
   "id": "646a459d-0bcc-49ea-9724-c5cf89ae147c",
   "metadata": {},
   "outputs": [],
   "source": [
    "#parse read counts from sorted subgenomes\n",
    "for s in ns_subg.index:\n",
    "    ns_subg.loc[s, 'bases_subg'] = read_lengths[s].sum()"
   ]
  },
  {
   "cell_type": "code",
   "execution_count": null,
   "id": "374f1d44-7b37-414a-95ff-039e53808c9b",
   "metadata": {},
   "outputs": [],
   "source": [
    "# parse read counts from whole librarties\n",
    "for s, df in ns_subg.groupby('strain'):\n",
    "    stats = pd.read_csv(f'/mnt/HDD3/lrma/seqkit_stats/{s}.stats', engine='python', sep=' +', header=0)\n",
    "    stats['sum_len'] = stats['sum_len'].apply(lambda x: np.float32(x.replace(',','')))\n",
    "    ns_subg.loc[df.index, 'bases_tot'] = stats['sum_len'].sum()"
   ]
  },
  {
   "cell_type": "markdown",
   "id": "fa5830a0-ffff-4e00-bb9a-8def0c0f148e",
   "metadata": {},
   "source": [
    "## Fig 2B"
   ]
  },
  {
   "cell_type": "code",
   "execution_count": null,
   "id": "c1f4aea2-005e-4615-ad8f-ecbe3d529a4e",
   "metadata": {},
   "outputs": [],
   "source": [
    "ns_subg_pivot = ns_subg.loc[ns_subg['identity_filter']==True].sort_values(by='bases_subg').copy()\n",
    "ns_subg_pivot['bases_ratio'] = ns_subg_pivot['bases_subg']/ns_subg_pivot['bases_tot']*100\n",
    "ns_subg_pivot = ns_subg_pivot.pivot_table(index=['strain','ploidy','cross'], columns='mat', values='bases_ratio')\n",
    "ns_subg_pivot['classified'] = ns_subg_pivot['a']+ns_subg_pivot['alpha']"
   ]
  },
  {
   "cell_type": "code",
   "execution_count": null,
   "id": "f868be78-eda8-479c-a284-45e061604b87",
   "metadata": {},
   "outputs": [],
   "source": [
    "fig, ax = plt.subplots(figsize=[5,4], \n",
    "                       gridspec_kw={'right':0.78, 'top':0.95, 'bottom':0.15})\n",
    "ploidy_symbol = {2:'o', 3:'^', 4:\"s\"}\n",
    "\n",
    "\n",
    "for (cross, ploidy), df in ns_subg_pivot.groupby(['cross','ploidy']):\n",
    "    c = cross_color[cross]\n",
    "    m = ploidy_symbol[ploidy]\n",
    "    \n",
    "    ax.scatter(df['a'], df['alpha'], c='#0f0f0f00', edgecolor=c, marker=m, s=64)\n",
    "    \n",
    "xlim = np.array([10, 70])\n",
    "ax.plot(xlim, xlim, lw=1, c='k', zorder=-1)\n",
    "ax.text(60, 56, '1:1')\n",
    "ax.plot(xlim, xlim*2, lw=1, c='k', zorder=-1)\n",
    "ax.text(36, 68, '1:2')\n",
    "ax.plot(xlim, xlim/2, lw=1, c='k', zorder=-1)\n",
    "ax.text(56, 25, '2:1')\n",
    "\n",
    "for x in np.linspace(40, 100, 7):\n",
    "    ax.plot(xlim, -xlim+x, c='k', lw=0.5, ls='--', zorder=-1)\n",
    "    ax.text(3*x/5+1, 2*x/5, f'{x:.0f}%', size=8)\n",
    "\n",
    "ax.set_xlim(xlim)\n",
    "ax.set_ylim(15, 70)\n",
    "ax.set_ylim(xlim)\n",
    "\n",
    "ax.set_xlabel(f'MAT{mat_alias[\"a\"]} parent subgenome (%)')\n",
    "ax.set_ylabel(f'MAT{mat_alias[\"alpha\"]} parent subgenome (%)')\n",
    "\n",
    "# legends\n",
    "legend_elms1 = [Line2D([0], [0], color=cross_color[cross], lw=2, label=cross) for cross in cross_order]\n",
    "legend1 = plt.legend(handles=legend_elms1, loc='upper left', bbox_to_anchor=[1.04, 1], handlelength=1.5)\n",
    "ax.add_artist(legend1)\n",
    "\n",
    "legend_elms2 = [Line2D([0], [0], color='w', marker=s, mec='k', mfc='#0f0f0f00', ms=8, label=f'{p}n') for p,s in ploidy_symbol.items()]\n",
    "legend2 = plt.legend(handles=legend_elms2, loc='upper left', bbox_to_anchor=[1.04, 0.25])\n",
    "ax.add_artist(legend2)\n",
    "\n",
    "sns.despine()\n",
    "#plt.savefig(f'{fig_path}Fig2B.svg', dpi=300)\n",
    "#plt.show()\n",
    "plt.close()"
   ]
  },
  {
   "cell_type": "markdown",
   "id": "2fc6aedc-fe04-4394-b297-37cfd55b3fa0",
   "metadata": {},
   "source": [
    "## Fig S3A"
   ]
  },
  {
   "cell_type": "code",
   "execution_count": null,
   "id": "b2a67c6e-681b-4841-80d3-caea3c8b7798",
   "metadata": {},
   "outputs": [],
   "source": [
    "ns_subg_reindex = ns_subg.set_index('s_subg')\n",
    "for m in ['n','size','N50']:\n",
    "    ns_subg_reindex[m] = assembl_stats[m]\n",
    "ns_subg_reindex['log_bases_subg'] = np.log10(ns_subg_reindex['bases_subg'])"
   ]
  },
  {
   "cell_type": "code",
   "execution_count": null,
   "id": "97230008-5bd0-4a52-9952-ac4cb775f0db",
   "metadata": {},
   "outputs": [],
   "source": [
    "fig, ax = plt.subplots(figsize=[4,4])\n",
    "sns.scatterplot(x='log_bases_subg', y='n', hue='cross', palette=cross_color, \n",
    "                hue_order=cross_order, data=ns_subg_reindex, ax=ax)\n",
    "ax.set_xlabel('Bases sorted in subgenome (log$_{10}$)')\n",
    "ax.set_ylabel('Number of contigs')\n",
    "ax.legend_.remove()\n",
    "\n",
    "fig.text(0.02, 0.92, 'A', size=24, fontweight='bold', font='Arial')\n",
    "\n",
    "sns.despine()\n",
    "plt.tight_layout()\n",
    "\n",
    "#plt.show()\n",
    "#plt.savefig(f'{fig_path}Supp_FigS3A.svg', dpi=300)\n",
    "plt.close()"
   ]
  },
  {
   "cell_type": "markdown",
   "id": "44c10a6f-c629-4c0e-bd7b-67c2a755590b",
   "metadata": {},
   "source": [
    "# Origin of unclassified reads"
   ]
  },
  {
   "cell_type": "code",
   "execution_count": null,
   "id": "c997c7e4-887d-44f3-a4bb-d5223d5fa25a",
   "metadata": {},
   "outputs": [],
   "source": [
    "S_unmapped = ['J44.-1', 'L64.-1', 'B71.-1', 'D93.-1']"
   ]
  },
  {
   "cell_type": "markdown",
   "id": "6bb3bbe9-e0b5-4389-bf25-63e5ec4759c2",
   "metadata": {},
   "source": [
    "## Import sorted read stats for selected libraries"
   ]
  },
  {
   "cell_type": "code",
   "execution_count": null,
   "id": "2d0caad0-54ef-4bb0-b311-ca79d1c5b51b",
   "metadata": {},
   "outputs": [],
   "source": [
    "read_lengths_unmapped = {}\n",
    "\n",
    "for s in S_unmapped:\n",
    "    read_lengths_unmapped[s]  = np.array([len(seq.seq) for seq in SeqIO.parse(f'/mnt/HDD3/lrma/sort/{s}.reads.fastq', 'fastq')])"
   ]
  },
  {
   "cell_type": "markdown",
   "id": "56bcfa79-9f52-4076-b9d1-1cfb2663e2e4",
   "metadata": {},
   "source": [
    "## Fig S1"
   ]
  },
  {
   "cell_type": "code",
   "execution_count": null,
   "id": "45405c4b-3bf9-49bb-8dd4-792a968e26c6",
   "metadata": {},
   "outputs": [],
   "source": [
    "fig, axes = plt.subplots(ncols=2, nrows=2, figsize=[8,6], \n",
    "                         gridspec_kw={'wspace':1.1, 'hspace':0.7,\n",
    "                                      'left':0.08, 'bottom':0.08, 'right':0.8, 'top':0.91})\n",
    "\n",
    "for s, cross, ax_idx in zip(['L64', 'J44', 'D93', 'B71'], ['CC3', 'CC1', 'BC2', 'BA1'],\n",
    "                    itertools.product(range(2), range(2))):\n",
    "    \n",
    "    ax = axes[ax_idx]\n",
    "    \n",
    "    for s_subg, unclassified in zip(list(ns_subg.loc[ns_subg['strain']==s].sort_values(by='mat')['s_subg'].values) + [f'{s}.-1'],\n",
    "                              [False, False, True]):\n",
    "        \n",
    "        if unclassified:\n",
    "            rld = read_lengths_unmapped[f'{s}.-1']\n",
    "            #label = s_subg.replace('.-1', '.unclassified')\n",
    "            l = 'Unclassified'\n",
    "        else:\n",
    "            rld = read_lengths[s_subg]\n",
    "            #label = s_subg\n",
    "            subg = s_subg.split('.')[-1]\n",
    "            mat = parents_background.loc[subg, 'mat']\n",
    "            ploidy = ns_subg.loc[s_subg, 'ploidy_subg']\n",
    "            l = f'{subg}\\n(MAT{mat_alias[mat]}, {ploidy:.0f}n)'\n",
    "            \n",
    "        label =  f'{l}\\ntotal: {rld.sum()*1e-6:.1f} Mb\\nmedian: {np.median(rld)*1e-3:.1f} kb'\n",
    "        \n",
    "        ax.plot(np.sort(np.log10(rld)), np.linspace(0, 100, rld.shape[0]), label=label)\n",
    "\n",
    "    ax.legend(fontsize=8, labelspacing=0.9, handlelength=2, loc='center left', bbox_to_anchor=[0.9, 0.5])\n",
    "    \n",
    "    ax.set_title(f'{s}\\n({cross}, {ns_subg_pivot.loc[s, [\"a\", \"alpha\"]].iloc[0].sum():.1f}% classified)')\n",
    "    ax.set_xticks(range(2, 6))\n",
    "    ax.set_xlim(1.8,5)\n",
    "    \n",
    "    ax.set_xlabel('Read length (log$_{10}$ bp)')\n",
    "    ax.set_ylabel('% reads')\n",
    "    \n",
    "sns.despine()\n",
    "\n",
    "#for ext in ['svg', 'png']:\n",
    "#    plt.savefig(f'{fig_path}Supp_FigS1.{ext}', dpi=300)\n",
    "#plt.show()\n",
    "plt.close()"
   ]
  },
  {
   "cell_type": "markdown",
   "id": "613e0e5d-017c-4bc7-aed7-f6a4867257e7",
   "metadata": {},
   "source": [
    "## Unclassified reads position bias"
   ]
  },
  {
   "cell_type": "code",
   "execution_count": null,
   "id": "c1c4559c-e509-4c17-83b4-a34cd74c9a6e",
   "metadata": {},
   "outputs": [],
   "source": [
    "#Get mapping positions per subgenome\n",
    "# ref genome used for sort mappings\n",
    "genome = {}\n",
    "tig_offsets = []\n",
    "for seq in SeqIO.parse('/home/mathieu/paradoxus_nanopore/paradoxus4/assemblies/paradoxus4_bc02_smartdenovo_pilon-nanopolish_reordered.fasta', 'fasta'):\n",
    "    genome[seq.id] = seq\n",
    "    tig_offsets.append([seq.id, len(seq.seq)])\n",
    "tig_offsets = pd.DataFrame(tig_offsets)\n",
    "tig_offsets['off'] = [0] + list(np.cumsum(tig_offsets[1])[:-1])\n",
    "tig_offsets['end'] = tig_offsets['off']+tig_offsets[1]-1\n",
    "tig_offsets.index = tig_offsets[0].values\n",
    "\n",
    "tig_chrom = pd.read_csv('/home/mathieu/paradoxus_nanopore/paradoxus4/barcode02/smartdenovo/mauve/tig_rearrangement.txt', sep='\\t', header=None)\n",
    "for chrom, df in tig_chrom.groupby(0):\n",
    "    if int(chrom[3:])%2 == 1:\n",
    "        tig_chrom.loc[df.index, 'color'] = 0\n",
    "    if int(chrom[3:])%2 == 0:\n",
    "        tig_chrom.loc[df.index, 'color'] = 1"
   ]
  },
  {
   "cell_type": "code",
   "execution_count": null,
   "id": "f6129ee0-9538-4b1c-bc9f-b6fb5ccd5542",
   "metadata": {},
   "outputs": [],
   "source": [
    "# parse read pos\n",
    "\n",
    "POS_unclassified = []\n",
    "window = 1e4\n",
    "for s in ['L64', 'J44', 'D93', 'B71']:\n",
    "    \n",
    "    Dat = []\n",
    "    ploidy = ns_subg.loc[ns_subg['strain']==s, 'ploidy_subg'].sum()\n",
    "    \n",
    "    for s_subg in list(ns_subg.loc[ns_subg['strain']==s].sort_values(by='mat')['s_subg'].values) + [f'{s}.-1']:\n",
    "        dat = pd.read_csv(f'/mnt/HDD3/lrma/sort/{s_subg}.pos.txt', sep='\\t', header=None)\n",
    "        #add offsets\n",
    "        dat[1] = dat[1] + tig_offsets.loc[dat[0], 'off'].values\n",
    "        dat = np.histogram(dat[1], bins=np.arange(0, 11.84e6, window))\n",
    "        dat = pd.Series(dat[0], name=s_subg)\n",
    "        Dat.append(dat)\n",
    "    \n",
    "    Dat = pd.concat(Dat, axis=1).T\n",
    "    median = np.median(Dat.sum(axis=0))\n",
    "    Dat = Dat/median*ploidy\n",
    "    POS_unclassified.append(Dat)\n",
    "\n",
    "POS_unclassified = pd.concat(POS_unclassified)"
   ]
  },
  {
   "cell_type": "markdown",
   "id": "4565d9f6-d0f1-4dd3-889c-b74001cfca3a",
   "metadata": {},
   "source": [
    "## Fig S2"
   ]
  },
  {
   "cell_type": "code",
   "execution_count": null,
   "id": "68bfc18b-9333-4f62-a045-40e144ed2907",
   "metadata": {
    "tags": []
   },
   "outputs": [],
   "source": [
    "# heatmap of coverage for examples of lines with high percentage of \n",
    "fig = plt.figure(figsize=[7,4])\n",
    "\n",
    "ax = fig.add_axes([0.22, 0.17, 0.65, 0.8])\n",
    "cbar_ax = fig.add_axes([0.89, 0.35, 0.03, 0.3])\n",
    "\n",
    "dat = POS_unclassified\n",
    "sns.heatmap(dat, cmap='coolwarm', vmin=0, vmax=4, center=1, ax=ax, cbar_ax=cbar_ax)\n",
    "\n",
    "chrom_color = {0:'0.7', 1:'0.85'}\n",
    "for (chrom, c), df1 in tig_chrom.groupby([0,'color']):\n",
    "    df1 = tig_offsets.loc[df1[1].apply(lambda x: f'{x}_pilon')]\n",
    "    start, length = 1/window * np.array([df1.iloc[0]['off'], df1[1].sum()])\n",
    "    ar = FancyArrow(start, dat.shape[0]+2, length, 0, width=0.8, head_width=0.8,\n",
    "                    fc=chrom_color[c], lw=0, length_includes_head=True, clip_on=False, head_length=0)\n",
    "    ax.add_patch(ar)\n",
    "    ax.text(start+0.5*length, dat.shape[0]+2, toRoman(int(chrom[3:])), \n",
    "            ha='center', va='center', size=7, color='k')\n",
    "\n",
    "    ax.axvline(start+length, lw=1, color='white')\n",
    "    \n",
    "for i in np.arange(0, dat.shape[0]+1, 3):\n",
    "    ax.axhline(i, lw=1, color='white')\n",
    "\n",
    "xticks = np.arange(0, dat.shape[1], 1e6/window)\n",
    "ax.set_xticks(xticks)\n",
    "ax.set_xticklabels([f'{(i*window/1e6):.0f}' for i in xticks], rotation=0, size=8)\n",
    "ax.set_xlabel('Position (Mb)')\n",
    "ax.set_yticks(np.array(range(dat.shape[0]))+0.5)\n",
    "ax.set_yticklabels([i.replace('.-1', '.unclassified') for i in dat.index], size=8)\n",
    "\n",
    "cbar_ax.set_ylabel('Relative depth of coverage (X)')\n",
    "\n",
    "#for ext in ['svg', 'png']:\n",
    "#    plt.savefig(f'{fig_path}Supp_FigS2.{ext}', dpi=300)\n",
    "\n",
    "#plt.show()\n",
    "plt.close()"
   ]
  }
 ],
 "metadata": {
  "kernelspec": {
   "display_name": "Python 3 (ipykernel)",
   "language": "python",
   "name": "python3"
  },
  "language_info": {
   "codemirror_mode": {
    "name": "ipython",
    "version": 3
   },
   "file_extension": ".py",
   "mimetype": "text/x-python",
   "name": "python",
   "nbconvert_exporter": "python",
   "pygments_lexer": "ipython3",
   "version": "3.9.13"
  }
 },
 "nbformat": 4,
 "nbformat_minor": 5
}
