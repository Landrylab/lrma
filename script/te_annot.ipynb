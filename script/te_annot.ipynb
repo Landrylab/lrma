{
 "cells": [
  {
   "cell_type": "code",
   "execution_count": null,
   "id": "1812b7a1-a204-4685-96c2-fafe5759df41",
   "metadata": {},
   "outputs": [],
   "source": [
    "import pandas as pd\n",
    "import numpy as np\n",
    "import os\n",
    "import pysam\n",
    "import pickle as pkl\n",
    "from matplotlib import pyplot as plt\n",
    "from matplotlib.patches import FancyArrow\n",
    "from matplotlib import cm\n",
    "from matplotlib.lines import Line2D\n",
    "import seaborn as sns\n",
    "from Bio import SeqIO\n",
    "from scipy import stats\n",
    "from sklearn.cluster import DBSCAN\n",
    "from progressbar import ProgressBar\n",
    "from statsmodels.stats.multitest import multipletests\n",
    "from roman import toRoman\n",
    "import itertools\n",
    "from collections import Counter\n",
    "import networkx as nx\n",
    "import random"
   ]
  },
  {
   "cell_type": "code",
   "execution_count": null,
   "id": "370cc8c8-e4c8-43b6-8809-5320cb518d6f",
   "metadata": {},
   "outputs": [],
   "source": [
    "sns.set(style='ticks', font='DejaVu Sans')"
   ]
  },
  {
   "cell_type": "markdown",
   "id": "5f4ae66c-c020-4972-a06c-23723997aec4",
   "metadata": {},
   "source": [
    "# Import metadata"
   ]
  },
  {
   "cell_type": "code",
   "execution_count": null,
   "id": "c4a1b1cb-4809-40c8-b946-818538662a96",
   "metadata": {
    "tags": []
   },
   "outputs": [],
   "source": [
    "#import tables of strain identities and cross parents\n",
    "nano_strains = pd.read_csv('/mnt/HDD3/lrma/script/nano_strains.csv', index_col=0)\n",
    "cross_parents = pd.read_csv('/mnt/HDD3/lrma/private_variants/cross_parents.txt', sep=';', header=None, index_col=0).squeeze()\n",
    "parent_strains = pd.read_csv('/mnt/HDD1/paradoxus_nanopore/MA_parents/script/batch_nanopore.csv', header=None, index_col=0)"
   ]
  },
  {
   "cell_type": "code",
   "execution_count": null,
   "id": "21b4ba56-dfb0-4204-a8ae-ac6f92a12b5a",
   "metadata": {},
   "outputs": [],
   "source": [
    "cross_alias = {'VL3':'CC1',\n",
    "              'VL4':'CC2',\n",
    "              'VL5':'CC3',\n",
    "              'VL1':'BB1',\n",
    "              'VL2':'BB2',\n",
    "              'L1':'BC1',\n",
    "              'L2':'BC2',\n",
    "              'M1':'BA1',\n",
    "              'M2':'BA2',\n",
    "              'H1':'BSc1',\n",
    "              'H2':'BSc2'}\n",
    "cross_order = {j:i for i,j in enumerate(['CC1', 'CC2', 'CC3', 'BB1', 'BB2', 'BC1', 'BC2', 'BA1', 'BA2', 'BSc1', 'BSc2'])}\n",
    "cross_color = nano_strains.groupby('cross')['cross_color'].apply(lambda x: x.iloc[0]).to_dict()"
   ]
  },
  {
   "cell_type": "code",
   "execution_count": null,
   "id": "d0361066-6b3d-4db8-a82e-37cbc103a02a",
   "metadata": {},
   "outputs": [],
   "source": [
    "ns_subg = pd.read_csv('/mnt/HDD3/lrma/script/ns_subg.csv', index_col=0)\n",
    "ns_subg['cross'] = ns_subg['cross'].replace(cross_alias)\n",
    "ns_subg['group'] = ns_subg['subg'].replace({'MSH-604':'B',\n",
    "                                           'UWOPS-91-202':'B',\n",
    "                                           'LL2012_021':'B',\n",
    "                                           'LL2012_028':'B',\n",
    "                                           'LL2011_004':'C',\n",
    "                                           'LL2011_009':'C',\n",
    "                                           'MSH-587-1':'C',\n",
    "                                           'LL2011_012':'C',\n",
    "                                           'LL2011_001':'C',\n",
    "                                           'YPS644':'A',\n",
    "                                           'YPS744':'A',\n",
    "                                           'LL2013_040':'Sc',\n",
    "                                           'LL2013_054':'Sc'})\n",
    "ns_subg['shared_subg'] = ns_subg['subg'].replace({'MSH-604':0,\n",
    "                                           'UWOPS-91-202':0,\n",
    "                                           'LL2012_021':2,\n",
    "                                           'LL2012_028':2,\n",
    "                                           'LL2011_004':1,\n",
    "                                           'LL2011_009':1,\n",
    "                                           'MSH-587-1':2,\n",
    "                                           'LL2011_012':2,\n",
    "                                           'LL2011_001':2,\n",
    "                                           'YPS644':2,\n",
    "                                           'YPS744':2,\n",
    "                                           'LL2013_040':2,\n",
    "                                           'LL2013_054':2})"
   ]
  },
  {
   "cell_type": "code",
   "execution_count": null,
   "id": "9af35b0e-53e3-45eb-815a-d090e3f7d630",
   "metadata": {},
   "outputs": [],
   "source": [
    "ty_colors = {'Ty1p':cm.tab10(0),\n",
    "             'TY1':cm.tab10(0),\n",
    "             'TY2':cm.tab10(1),\n",
    "             'Ty3p':cm.tab10(2),\n",
    "             'TY3':cm.tab10(2),\n",
    "             'Tsu4':cm.tab10(3),\n",
    "             'TY4':cm.tab10(4),\n",
    "             'TY5':cm.tab10(5),\n",
    "             'Ty5p':cm.tab10(5)}"
   ]
  },
  {
   "cell_type": "code",
   "execution_count": null,
   "id": "daf77d39-292c-4b36-8c79-3e5e3c132345",
   "metadata": {},
   "outputs": [],
   "source": [
    "tig_off = {}\n",
    "for r in set(ns_subg['subg']):\n",
    "    path = f'/home/mathieu/paradoxus_nanopore/MA_parents/assemblies/{r}.chromosomes.rdna.fasta'\n",
    "    tig_off[r] = pd.concat([pd.Series([seq.id, len(seq.seq)]) for seq in SeqIO.parse(path, 'fasta')], axis=1).T\n",
    "    tig_off[r].index = tig_off[r][0].values\n",
    "    tig_off[r][2] = np.concatenate([np.array([0]), np.cumsum(tig_off[r][1].values)[:-1]])\n",
    "    tig_off[r][3] = tig_off[r][1] + tig_off[r][2]\n",
    "    tig_off[r]['color'] = np.tile([0,1], 10)[:tig_off[r].shape[0]]"
   ]
  },
  {
   "cell_type": "code",
   "execution_count": null,
   "id": "f9542aa0-8fc1-470e-b44d-fa7686f51748",
   "metadata": {},
   "outputs": [],
   "source": [
    "#optimize liftover procedure\n",
    "bed = []\n",
    "ll_genome = {seq.id:seq for seq in SeqIO.parse('/mnt/HDD3/lrma/medaka/A88.LL2011_004/consensus.fasta', 'fasta')}\n",
    "\n",
    "for tig, seq in ll_genome.items():\n",
    "    tig_len = len(seq.seq)\n",
    "    for i in np.arange(0, tig_len-500, 500):\n",
    "        bed.append(f'{tig}\\t{i}\\t{i+500}')\n",
    "\n",
    "with open('/mnt/HDD3/lrma/minimap_aln/opt/A88.LL2011_004.tiled.bed', 'w') as handle:\n",
    "    handle.write('\\n'.join(bed))\n",
    "#(base) mathieu@mathieu-MacPro:/mnt/HDD3/lrma/minimap_aln/opt$ wc -l *.bed\n",
    "#  23254 A88.LL2011_004.tiled.bed\n",
    "#  22801 test.asm10.lift.bed\n",
    "#  22867 test.asm20.lift.bed\n",
    "#  22793 test.asm5.lift.bed\n",
    "#  91715 total\n",
    "# asm10 seems like a good choice"
   ]
  },
  {
   "cell_type": "markdown",
   "id": "621945b1-a9bc-4b27-96bf-dd821648e62f",
   "metadata": {},
   "source": [
    "# Processing RepeatMasker annotations\n",
    "## Import REannotation files"
   ]
  },
  {
   "cell_type": "code",
   "execution_count": null,
   "id": "07fe2c2c-558f-4bc5-8f6c-5f2d6fdaa0a7",
   "metadata": {},
   "outputs": [],
   "source": [
    "REA = []\n",
    "idx = 0\n",
    "with ProgressBar(max_value=254+13) as bar:\n",
    "    for s in ns_subg.loc[ns_subg['identity_filter']].index:\n",
    "\n",
    "        rea = pd.read_csv(f'/mnt/HDD3/lrma/RepeatMasker/{s}/REannotate_output/consensus.fasta.REannotation',\n",
    "                          engine='python', sep=' +', header=0)\n",
    "        rea['s_subg'] = s\n",
    "        rea['subg'] = ns_subg.loc[s, 'subg']\n",
    "        rea['cross'] = ns_subg.loc[s, 'cross']\n",
    "        REA.append(rea)\n",
    "        idx += 1\n",
    "        bar.update(idx)\n",
    "        \n",
    "    for s in parent_strains.index:\n",
    "\n",
    "        rea = pd.read_csv(f'/mnt/HDD1/paradoxus_nanopore/MA_parents/te_annotation/{s}/REannotate_output/{s}.chromosomes.fasta.REannotation',\n",
    "                          engine='python', sep=' +', header=0)\n",
    "        rea['s_subg'] = s\n",
    "        rea['subg'] = s\n",
    "        rea['cross'] = 'P'\n",
    "\n",
    "        REA.append(rea)\n",
    "        idx += 1\n",
    "        bar.update(idx)\n",
    "\n",
    "REA = pd.concat(REA).reset_index(drop=True)\n",
    "REA.columns = [i.strip('\\t') for i in REA.columns]"
   ]
  },
  {
   "cell_type": "markdown",
   "id": "2c759282-5752-4bc7-ba7c-653a9d74ef8d",
   "metadata": {},
   "source": [
    "## Classify as full length, truncated, or solo"
   ]
  },
  {
   "cell_type": "code",
   "execution_count": null,
   "id": "66289c68-9083-494e-9631-d70688c1d40d",
   "metadata": {},
   "outputs": [],
   "source": [
    "#REA['fl'] = REA.apply(lambda x: np.all(x[['nhits1','nhitsI','nhits2']] >= 1), axis=1)\n",
    "REA['fl'] = (REA['nhits1'] >= 1) & (REA['nhits2'] >= 1) & (REA['nhitsI'] >= 1)\n",
    "#REA['I'] = REA.apply(lambda x: x['nhitsI'] == 1, axis=1)\n",
    "REA['solo'] = np.logical_xor((REA['nhits1'] >= 1), (REA['nhits2'] >= 1)) & (REA['nhitsI'] == 0)\n",
    "REA['tr'] = np.logical_xor((REA['nhits1'] >= 1), (REA['nhits2'] >= 1)) & (REA['nhitsI'] >= 1)\n",
    "REA['fl_tr'] = (REA['fl']) | (REA['tr'])\n",
    "REA['strand'] = REA['orient'].replace({'C':'-'})\n",
    "\n",
    "for o, df in REA.groupby('orient'):\n",
    "    if o == 'C':\n",
    "        REA.loc[df.index, 'start_stranded'] = df['end']\n",
    "        REA.loc[df.index, 'end_stranded'] = df['start']\n",
    "    elif o == '+':\n",
    "        REA.loc[df.index, 'start_stranded'] = df['start']\n",
    "        REA.loc[df.index, 'end_stranded'] = df['end']\n",
    "        \n",
    "REA['lift'] = False"
   ]
  },
  {
   "cell_type": "markdown",
   "id": "4cf15af1-3608-4029-ba1b-eaedeb0f1699",
   "metadata": {},
   "source": [
    "## Export in bed format for liftover"
   ]
  },
  {
   "cell_type": "code",
   "execution_count": null,
   "id": "f04561b2-10a8-40ad-8f18-9af8385000f0",
   "metadata": {},
   "outputs": [],
   "source": [
    "for s, df in REA.groupby('s_subg'):\n",
    "    df[['query','start_stranded','end_stranded']].astype({'start_stranded':int, 'end_stranded':int})\\\n",
    "    .to_csv(f'/mnt/HDD3/lrma/RepeatMasker/{s}/REannotate_output/{s}.bed', sep='\\t', header=None, index=None)"
   ]
  },
  {
   "cell_type": "markdown",
   "id": "6d6089e8-f371-4b5f-bd85-a24335c9b8ad",
   "metadata": {},
   "source": [
    "## Choice of Ty1 elements - distance matrices"
   ]
  },
  {
   "cell_type": "code",
   "execution_count": null,
   "id": "0673aca2-9602-43d9-8b11-5cc776128a01",
   "metadata": {},
   "outputs": [],
   "source": [
    "REA.loc[(REA['s_subg']=='LL2011_012') & (REA['fl']) & (REA['query']=='chrVII')].sort_values(by=['query','start'])\n",
    "# LL2011_012: chrVII at 834-846k is u9"
   ]
  },
  {
   "cell_type": "code",
   "execution_count": null,
   "id": "d35d2d1f-fac0-4324-b409-3e2db5a30579",
   "metadata": {},
   "outputs": [],
   "source": [
    "# Computed in MEGA\n",
    "dist_matrix_ty1 = pd.read_csv('/home/mathieu/mhenault_landrylab/Publications/lrma/draft/dist_Ty1_mega.csv', index_col=0)"
   ]
  },
  {
   "cell_type": "code",
   "execution_count": null,
   "id": "c4169b25-fdec-4751-a120-a439c3b3e4ea",
   "metadata": {},
   "outputs": [],
   "source": [
    "ty1_d11 = [i for i in dist_matrix_ty1.index if 'parent.LL2011_012' in i]\n",
    "sub_d11 = dist_matrix_ty1.loc[ty1_d11, ty1_d11]\n",
    "sub_d11.apply(lambda x: sum(x==0), axis=1)\n",
    "sub_d11.loc['parent.LL2011_012.u9.Ty1p'].sort_values()"
   ]
  },
  {
   "cell_type": "markdown",
   "id": "3ff59b3f-fa83-46e7-9dec-51c42f2e2578",
   "metadata": {
    "tags": []
   },
   "source": [
    "## Transform annotation coordinates based on liftover\n",
    "### MA lines subgenomes"
   ]
  },
  {
   "cell_type": "code",
   "execution_count": null,
   "id": "73884582-e37c-4695-94ee-3faad8321121",
   "metadata": {},
   "outputs": [],
   "source": [
    "rea_grouped = REA.groupby(['s_subg','query','start_stranded','end_stranded'])\n",
    "bar_idx = 0\n",
    "with ProgressBar(max_value=254) as bar:\n",
    "    for s, df in ns_subg.groupby('s_subg'):\n",
    "        path = f'/mnt/HDD3/lrma/liftover/{s}.lift.bed'\n",
    "        if os.path.isfile(path) and os.stat(path).st_size > 0:\n",
    "            bed = pd.read_csv(path, sep='\\t', header=None)\n",
    "            for i in bed.index:\n",
    "                Tig, Start, End, switch = bed.loc[i, [0,1,2,5]]\n",
    "                if switch == '-':\n",
    "                    (Start, End) = (End, Start)\n",
    "                Strand = ''\n",
    "                if Start < End:\n",
    "                    Strand = '+'\n",
    "                elif Start > End:\n",
    "                    Strand = '-'\n",
    "                tig, start, end = bed.loc[i, 3].split('_')[:3]\n",
    "                idx = rea_grouped.get_group((s, tig, int(start), int(end))).index\n",
    "                REA.loc[idx, 'lift'] = True\n",
    "                REA.loc[idx, 'Query'] = Tig\n",
    "\n",
    "                REA.loc[idx, 'Start'] = Start\n",
    "                REA.loc[idx, 'End'] = End\n",
    "                REA.loc[idx, 'Strand'] = Strand\n",
    "                \n",
    "            bar_idx += 1\n",
    "            bar.update(bar_idx)"
   ]
  },
  {
   "cell_type": "markdown",
   "id": "a68d4e71-3519-4e79-8751-ca8fc901c49a",
   "metadata": {},
   "source": [
    "### Parental genomes"
   ]
  },
  {
   "cell_type": "code",
   "execution_count": null,
   "id": "47ada5fb-1cff-410b-a445-9db70c452dce",
   "metadata": {},
   "outputs": [],
   "source": [
    "rea = REA.loc[REA['cross']=='P']\n",
    "idx = rea.index\n",
    "\n",
    "REA.loc[idx, 'lift'] = True\n",
    "REA.loc[idx, 'Query'] = rea['query']\n",
    "REA.loc[idx, 'Start'] = rea['start_stranded']\n",
    "REA.loc[idx, 'End'] = rea['end_stranded']\n",
    "REA.loc[idx, 'Strand'] = rea['strand']"
   ]
  },
  {
   "cell_type": "markdown",
   "id": "b8ab0e02-ee03-485b-a820-571445fea0b1",
   "metadata": {},
   "source": [
    "### Test plotting"
   ]
  },
  {
   "cell_type": "code",
   "execution_count": null,
   "id": "52fa7030-e1e7-4f53-95a7-4260eb64a0dd",
   "metadata": {},
   "outputs": [],
   "source": [
    "sub = REA.loc[REA['cross']=='CC1']"
   ]
  },
  {
   "cell_type": "code",
   "execution_count": null,
   "id": "b400e699-ad17-449f-8892-0dbc4d248c5b",
   "metadata": {},
   "outputs": [],
   "source": [
    "fig, ax = plt.subplots(figsize=[3,3])\n",
    "\n",
    "subg, Query, Start, End = REA.loc[random.choice(sub.index), ['subg', 'Query', 'Start', 'End']]\n",
    "\n",
    "if Start < End:\n",
    "    Start = np.floor(Start*1e-3)*1e3\n",
    "    End = np.ceil(End*1e-3)*1e3\n",
    "\n",
    "    dat = REA.loc[(REA['subg']==subg)\n",
    "                  & (REA['Query']==Query)\n",
    "                  & (REA['Start']>Start)\n",
    "                  & (REA['End']<End)].sort_values(by=['cross','s_subg'])\n",
    "    print('plus')\n",
    "\n",
    "elif Start > End:\n",
    "    Start = np.ceil(Start*1e-3)*1e3\n",
    "    End = np.floor(End*1e-3)*1e3\n",
    "\n",
    "    dat = REA.loc[(REA['subg']==subg)\n",
    "                  & (REA['Query']==Query)\n",
    "                  & (REA['Start']<Start)\n",
    "                  & (REA['End']>End)].sort_values(by=['cross','s_subg'])\n",
    "    print('minus')\n",
    "\n",
    "title = f'{subg}, {Query}, {Start}, {End}'\n",
    "\n",
    "strand_color = {'+':'k', '-':'r'}\n",
    "y_order = {j:i for i,j in enumerate(dat['s_subg'].unique())}\n",
    "\n",
    "for s, df in dat.groupby('s_subg'):\n",
    "    y = y_order[s]\n",
    "    for i in df.index:\n",
    "        fam, Start, End, Strand = df.loc[i, ['family', 'Start', 'End', 'Strand']]\n",
    "        #color item\n",
    "        #c = ty_colors[fam]\n",
    "        c = strand_color[Strand]\n",
    "\n",
    "        ax.plot([Start, End], [y,y], color=c)\n",
    "    \n",
    "ax.set_yticks(range(len(y_order)))\n",
    "ax.set_yticklabels(y_order, size=4)\n",
    "ax.set_title(title)\n",
    "\n",
    "plt.show()\n",
    "plt.close()"
   ]
  },
  {
   "cell_type": "markdown",
   "id": "a4eceddc-26f0-4373-98ab-80a18f64ce86",
   "metadata": {},
   "source": [
    "# Define orthogroups"
   ]
  },
  {
   "cell_type": "code",
   "execution_count": null,
   "id": "ff9bff7f-6f29-4087-bc72-e384cd778c43",
   "metadata": {},
   "outputs": [],
   "source": [
    "og_idx = 0\n",
    "\n",
    "max_dist = 500\n",
    "dbscan = DBSCAN(eps=max_dist, min_samples=1)\n",
    "\n",
    "for (subg, chrom, fam, strand), df in REA.groupby(['subg', 'Query', 'family', 'Strand']):\n",
    "\n",
    "    if df.shape[0] > 1:\n",
    "        POS = []\n",
    "        IDX = []\n",
    "        for i in df.index:\n",
    "            start, end = df.loc[i, ['Start', 'End']]\n",
    "            pos = np.nan\n",
    "            if strand == '+':\n",
    "                pos = np.arange(start, end, 10)\n",
    "            elif strand == '-':\n",
    "                pos = np.arange(end, start, 10)\n",
    "            POS.append(pos)\n",
    "            IDX.append(np.repeat(i, pos.shape[0]))\n",
    "\n",
    "        POS = np.concatenate(POS)\n",
    "        IDX = np.concatenate(IDX)\n",
    "        \n",
    "        clusters = dbscan.fit_predict(POS.reshape(-1,1))\n",
    "\n",
    "        clusters = pd.DataFrame(np.concatenate([POS.reshape(-1,1), IDX.reshape(-1,1), clusters.reshape(-1,1)], axis=1))\n",
    "        for c, df1 in clusters.groupby(2):\n",
    "            if c != -1:\n",
    "                cluster_name = f'og{og_idx}'\n",
    "                og_idx += 1\n",
    "                for i in set(df1[1]):\n",
    "                    REA.loc[i, 'og'] = cluster_name\n",
    "            else:\n",
    "                for i in set(df1[1]):\n",
    "                    cluster_name = f'og{og_idx}'\n",
    "                    og_idx += 1\n",
    "                    REA.loc[i, 'og'] = cluster_name\n",
    "                    \n",
    "    else:\n",
    "        cluster_name = f'og{og_idx}'\n",
    "        og_idx += 1\n",
    "        REA.loc[df.index, 'og'] = cluster_name"
   ]
  },
  {
   "cell_type": "markdown",
   "id": "3396f114-17d7-4806-af70-8349a350a46d",
   "metadata": {},
   "source": [
    "## Classify orthogroups"
   ]
  },
  {
   "cell_type": "code",
   "execution_count": null,
   "id": "8122b482-0730-4407-93a4-635cc32c0479",
   "metadata": {},
   "outputs": [],
   "source": [
    "for og, df in REA.groupby('og'):\n",
    "    \n",
    "    # find if there is a parental annotation\n",
    "    og_cross = df['cross'].unique()\n",
    "    if 'P' in og_cross:\n",
    "        og_contains_parent = True\n",
    "    else:\n",
    "        og_contains_parent = False\n",
    "    \n",
    "    # extract the set of subgenomes; to verify if it is unique for all\n",
    "    og_subg = ','.join(df.loc[~df['subg'].isna(), 'subg'].unique())\n",
    "    \n",
    "    # find if there is a full-length\n",
    "    og_fl = True in df['fl'].unique()\n",
    "    \n",
    "    # extract coordinates\n",
    "    pos = df[['Start', 'End']].values.flatten()\n",
    "    mid = np.median(pos)\n",
    "    left_bound = np.min(pos)\n",
    "    right_bound = np.max(pos)\n",
    "    \n",
    "    REA.loc[df.index, 'og_contains_parent'] = og_contains_parent\n",
    "    REA.loc[df.index, 'og_subg'] = og_subg\n",
    "    REA.loc[df.index, 'og_fl'] = og_fl\n",
    "    REA.loc[df.index, 'og_mid'] = mid\n",
    "    REA.loc[df.index, 'og_left_bound'] = left_bound\n",
    "    REA.loc[df.index, 'og_right_bound'] = right_bound"
   ]
  },
  {
   "cell_type": "markdown",
   "id": "545d60b7-b684-4d78-b870-31dfb51bcc8a",
   "metadata": {},
   "source": [
    "## Export REA"
   ]
  },
  {
   "cell_type": "code",
   "execution_count": null,
   "id": "284586b9-2665-4275-8b56-c61e13dc3c00",
   "metadata": {},
   "outputs": [],
   "source": [
    "# Export REA\n",
    "#REA.to_csv('/mnt/HDD3/lrma/results/REA.csv')"
   ]
  },
  {
   "cell_type": "code",
   "execution_count": null,
   "id": "4448b8a5-80ad-4342-8145-46a0c95d22cd",
   "metadata": {},
   "outputs": [],
   "source": [
    "# Re-import REA\n",
    "REA = pd.read_csv('/mnt/HDD3/lrma/results/REA.csv', index_col=0)"
   ]
  },
  {
   "cell_type": "markdown",
   "id": "9026b688-3986-4567-97db-3e33442da821",
   "metadata": {},
   "source": [
    "## Distribution of orthogroup size"
   ]
  },
  {
   "cell_type": "code",
   "execution_count": null,
   "id": "3c17a13d-1818-4e3b-b8ed-42915abd3bb3",
   "metadata": {},
   "outputs": [],
   "source": [
    "fig, ax = plt.subplots(figsize=[4,4])\n",
    "\n",
    "for cross, df in REA.groupby('cross'):\n",
    "    dat = df.value_counts('og')\n",
    "    ax.plot(dat, np.linspace(0,1,dat.shape[0]), label=cross)\n",
    "    \n",
    "plt.show()\n",
    "plt.close()"
   ]
  },
  {
   "cell_type": "markdown",
   "id": "4e64fbf1-d2e1-4031-9644-4c8953304c8b",
   "metadata": {},
   "source": [
    "## Get orthogroup data"
   ]
  },
  {
   "cell_type": "code",
   "execution_count": null,
   "id": "113a55cf-1fe9-4add-b27f-8d5b889f9382",
   "metadata": {},
   "outputs": [],
   "source": [
    "def get_og_fl_stats(x):\n",
    "    if True in x['fl'].values:\n",
    "        z = x.groupby('s_subg').apply(lambda y: y.value_counts('fl'))\n",
    "        # sometimes z is not a dataframe\n",
    "        if type(z) == pd.Series:\n",
    "            z = pd.DataFrame(z.rename('count')).reset_index().pivot_table(index='s_subg', columns='fl', values='count', aggfunc=lambda x: x)\n",
    "        z = z.fillna(0)[True].astype(int)\n",
    "        C = Counter(z)\n",
    "        C = ';'.join([f'{i}={j}' for (i,j) in C.items()])\n",
    "        return pd.Series([C, z.std()], index=['og_fl_counts', 'og_fl_std'])\n",
    "    \n",
    "    else:\n",
    "        return pd.Series([np.nan, np.nan], index=['og_fl_counts', 'og_fl_std'])\n",
    "\n",
    "def get_og_stats(x):\n",
    "    z = x.value_counts('s_subg')\n",
    "    C = Counter(z)\n",
    "    cmplx = any([i>1 for i in C.keys()])\n",
    "    C = ';'.join([f'{i}={j}' for (i,j) in C.items()])\n",
    "    \n",
    "    return pd.Series([C, cmplx, z.std()], \n",
    "                    index=['og_size_counts', 'og_complex', 'og_size_std'])"
   ]
  },
  {
   "cell_type": "code",
   "execution_count": null,
   "id": "570e17a5-2fff-4b10-ba2b-ae95d00b08c9",
   "metadata": {},
   "outputs": [],
   "source": [
    "og_data = REA.value_counts(['og','og_contains_parent','og_subg','og_fl','Query','family','og_mid','og_left_bound','og_right_bound']).rename('og_size').reset_index()\n",
    "og_data.index = og_data['og'].values\n",
    "# span of the orthogroup on reference coordinates\n",
    "og_data['og_span'] = (og_data['og_right_bound']-og_data['og_left_bound']).abs()\n",
    "# og size counts stats\n",
    "og_data = pd.concat([og_data, REA.groupby('og').apply(get_og_stats)], axis=1)\n",
    "# og full-length counts stats\n",
    "og_data = pd.concat([og_data, REA.groupby('og').apply(get_og_fl_stats)], axis=1)\n"
   ]
  },
  {
   "cell_type": "markdown",
   "id": "98c94df8-822e-4da4-86b3-bd2a6b9e9e05",
   "metadata": {},
   "source": [
    "## Export OG data"
   ]
  },
  {
   "cell_type": "code",
   "execution_count": null,
   "id": "cec6ebba-53af-4ae6-ac6e-5c3906117914",
   "metadata": {},
   "outputs": [],
   "source": [
    "#export og_data\n",
    "og_data.to_csv('/mnt/HDD3/lrma/results/og_data.csv')"
   ]
  },
  {
   "cell_type": "markdown",
   "id": "6718e137-ccdc-44a7-b131-edcb9971fcc2",
   "metadata": {},
   "source": [
    "## Export flanking regions for reverse liftover"
   ]
  },
  {
   "cell_type": "code",
   "execution_count": null,
   "id": "8bcf8e30-ddc2-409c-bbed-c5848417022a",
   "metadata": {},
   "outputs": [],
   "source": [
    "# export flanking regions for test liftover\n",
    "pad = 500\n",
    "for subg, df in og_data.groupby('subg'):\n",
    "    bed = []\n",
    "    for i in df.index:\n",
    "        chrom, lb, rb = df.loc[i, ['chrom','left_bound','right_bound']]\n",
    "        bed.append(f'{chrom}\\t{int(lb-pad)}\\t{int(lb)}')\n",
    "        bed.append(f'{chrom}\\t{int(rb)}\\t{int(rb+pad)}')\n",
    "    with open(f'/mnt/HDD3/lrma/reverse_liftover/{subg}.flank.bed', 'w') as handle:\n",
    "        handle.write('\\n'.join(bed))"
   ]
  }
 ],
 "metadata": {
  "kernelspec": {
   "display_name": "Python 3 (ipykernel)",
   "language": "python",
   "name": "python3"
  },
  "language_info": {
   "codemirror_mode": {
    "name": "ipython",
    "version": 3
   },
   "file_extension": ".py",
   "mimetype": "text/x-python",
   "name": "python",
   "nbconvert_exporter": "python",
   "pygments_lexer": "ipython3",
   "version": "3.9.13"
  }
 },
 "nbformat": 4,
 "nbformat_minor": 5
}
